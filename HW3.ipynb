{
 "cells": [
  {
   "cell_type": "code",
   "execution_count": 2,
   "metadata": {},
   "outputs": [],
   "source": [
    "import cv2\n",
    "import numpy as np\n",
    "import torch \n",
    "import torch.nn as nn\n",
    "from torch.utils.data import DataLoader,Dataset\n",
    "from torchvision.transforms import transforms\n",
    "import os\n",
    "import time"
   ]
  },
  {
   "cell_type": "markdown",
   "metadata": {},
   "source": [
    "## 利用 cv2 讀入照片並且存在numpy array中 "
   ]
  },
  {
   "cell_type": "code",
   "execution_count": 4,
   "metadata": {},
   "outputs": [],
   "source": [
    "def readfile(path,label):\n",
    "    #label 是一個boolean variable ，表示是否需要回傳Y值\n",
    "    image_dir = sorted(os.listdir(path))\n",
    "    x = np.zeros((len(image_dir), 128, 128, 3) ,dtype=np.uint8)\n",
    "    y = np.zeros((len(image_dir)), dtype=np.uint8)\n",
    "    for i , file in enumerate(image_dir):\n",
    "        img = cv2.imread(os.path.join(path, file))\n",
    "        x[i, : , : ] = cv2.resize(img, (128, 128))\n",
    "        if label:\n",
    "            y[i] = int(file.split('_')[0])\n",
    "    \n",
    "    if label:\n",
    "        return x,y\n",
    "    else:\n",
    "        return x"
   ]
  },
  {
   "cell_type": "code",
   "execution_count": 5,
   "metadata": {},
   "outputs": [
    {
     "name": "stdout",
     "output_type": "stream",
     "text": [
      "Reading data\n",
      "size of training data:9866\n",
      "size of validation data:3430\n",
      "size of testing data:3347\n"
     ]
    }
   ],
   "source": [
    "# 分別將 test , train , valid 用 readfile讀入\n",
    "workdir = './food-11'\n",
    "print(\"Reading data\")\n",
    "train_x , train_y = readfile(os.path.join(workdir,\"training\"), True)\n",
    "print(\"size of training data:{}\".format(len(train_x)))\n",
    "valid_x , valid_y = readfile(os.path.join(workdir,\"validation\"), True)\n",
    "print(\"size of validation data:{}\".format(len(valid_x)))\n",
    "test_x = readfile(os.path.join(workdir,\"testing\"), False)\n",
    "print(\"size of testing data:{}\".format(len(test_x)))"
   ]
  },
  {
   "cell_type": "markdown",
   "metadata": {},
   "source": [
    "## 包裝成Dataset\n",
    "- 使用DataLoader 來載入資料"
   ]
  },
  {
   "cell_type": "code",
   "execution_count": 6,
   "metadata": {},
   "outputs": [],
   "source": [
    "# Training 時做 Augumentation\n",
    "train_transform = transforms.Compose([\n",
    "  transforms.ToPILImage(),\n",
    "  transforms.RandomHorizontalFlip(),\n",
    "  transforms.RandomRotation(15),\n",
    "  transforms.ToTensor(),\n",
    "])\n",
    "# testing 不需要做 Augumentation\n",
    "test_transform = transforms.Compose([\n",
    "  transforms.ToPILImage(),\n",
    "  transforms.ToTensor(),\n",
    "])\n",
    "\n",
    "class imageData(Dataset):\n",
    "    def __init__(self, x, y=None, transforms=None):\n",
    "        self.x = x\n",
    "        self.y = y\n",
    "        # label is required to be a LongTensor\n",
    "        if y is not None:\n",
    "            self.y = torch.LongTensor(y)\n",
    "        self.transforms = transforms\n",
    "  \n",
    "    def __len__(self):\n",
    "        return len(self.x)\n",
    "  \n",
    "    def __getitem__(self, index):\n",
    "        X = self.x[index]\n",
    "        if self.transforms is not None:\n",
    "            X = self.transforms(X)\n",
    "\n",
    "        if self.y is not None:\n",
    "            Y = self.y[index]\n",
    "            return X,Y\n",
    "        else:\n",
    "            return X"
   ]
  },
  {
   "cell_type": "code",
   "execution_count": 7,
   "metadata": {},
   "outputs": [],
   "source": [
    "batch_size = 64\n",
    "train_set = imageData(train_x,train_y,train_transform)\n",
    "valid_set = imageData(valid_x,valid_y,test_transform)\n",
    "\n",
    "train_loader = DataLoader(train_set, batch_size=batch_size, shuffle=True)\n",
    "val_loader = DataLoader(valid_set, batch_size=batch_size , shuffle=False)"
   ]
  },
  {
   "cell_type": "code",
   "execution_count": 8,
   "metadata": {},
   "outputs": [],
   "source": [
    "class Classifier(nn.Module):\n",
    "    def __init__(self):\n",
    "        super(Classifier, self).__init__()\n",
    "        # torch.nn.Conv2d(in_channels, out_channels, kernel_size, stride, padding)\n",
    "        # torch.nn.MaxPool2d(kernel_size, stride, padding)\n",
    "        # input 維度 [3, 128, 128]\n",
    "\n",
    "        self.cnn = nn.Sequential(\n",
    "            nn.Conv2d(3, 64, 3, 1, 1), # [64, 128, 128]\n",
    "            nn.BatchNorm2d(64),\n",
    "            nn.ReLU(),\n",
    "            nn.MaxPool2d(2, 2, 0),     # [64, 64, 64]\n",
    "\n",
    "            nn.Conv2d(64, 128, 3, 1, 1), # [128,64,64]\n",
    "            nn.BatchNorm2d(128),\n",
    "            nn.ReLU(),\n",
    "            nn.MaxPool2d(2, 2, 0),     # [64, 32, 32]\n",
    "\n",
    "            nn.Conv2d(128, 256, 3, 1, 1), # [256,32,32]\n",
    "            nn.BatchNorm2d(256),\n",
    "            nn.ReLU(),\n",
    "            nn.MaxPool2d(2, 2, 0),     # [256, 16, 16]\n",
    "\n",
    "            nn.Conv2d(256, 512, 3, 1, 1), # [521,16,16]\n",
    "            nn.BatchNorm2d(512),\n",
    "            nn.ReLU(),\n",
    "            nn.MaxPool2d(2, 2, 0),     # [512, 8, 8]\n",
    "            \n",
    "            nn.Conv2d(512, 512, 3, 1, 1), # [512,8,8]\n",
    "            nn.BatchNorm2d(512),\n",
    "            nn.ReLU(),\n",
    "            nn.MaxPool2d(2, 2, 0),     # [512, 4, 4]\n",
    "            \n",
    "        )\n",
    "\n",
    "        self.fc = nn.Sequential(\n",
    "            nn.Linear(512*4*4, 1024),\n",
    "            nn.ReLU(),\n",
    "            nn.Linear(1024,512),\n",
    "            nn.ReLU(),\n",
    "            nn.Linear(512,11)\n",
    "        )\n",
    "\n",
    "    def forward(self,x):\n",
    "        out = self.cnn(x)\n",
    "        out = out.view(out.size()[0],-1)\n",
    "        return self.fc(out)"
   ]
  },
  {
   "cell_type": "markdown",
   "metadata": {},
   "source": [
    "## Training "
   ]
  },
  {
   "cell_type": "code",
   "execution_count": 9,
   "metadata": {},
   "outputs": [
    {
     "name": "stdout",
     "output_type": "stream",
     "text": [
      "Classifier(\n",
      "  (cnn): Sequential(\n",
      "    (0): Conv2d(3, 64, kernel_size=(3, 3), stride=(1, 1), padding=(1, 1))\n",
      "    (1): BatchNorm2d(64, eps=1e-05, momentum=0.1, affine=True, track_running_stats=True)\n",
      "    (2): ReLU()\n",
      "    (3): MaxPool2d(kernel_size=2, stride=2, padding=0, dilation=1, ceil_mode=False)\n",
      "    (4): Conv2d(64, 128, kernel_size=(3, 3), stride=(1, 1), padding=(1, 1))\n",
      "    (5): BatchNorm2d(128, eps=1e-05, momentum=0.1, affine=True, track_running_stats=True)\n",
      "    (6): ReLU()\n",
      "    (7): MaxPool2d(kernel_size=2, stride=2, padding=0, dilation=1, ceil_mode=False)\n",
      "    (8): Conv2d(128, 256, kernel_size=(3, 3), stride=(1, 1), padding=(1, 1))\n",
      "    (9): BatchNorm2d(256, eps=1e-05, momentum=0.1, affine=True, track_running_stats=True)\n",
      "    (10): ReLU()\n",
      "    (11): MaxPool2d(kernel_size=2, stride=2, padding=0, dilation=1, ceil_mode=False)\n",
      "    (12): Conv2d(256, 512, kernel_size=(3, 3), stride=(1, 1), padding=(1, 1))\n",
      "    (13): BatchNorm2d(512, eps=1e-05, momentum=0.1, affine=True, track_running_stats=True)\n",
      "    (14): ReLU()\n",
      "    (15): MaxPool2d(kernel_size=2, stride=2, padding=0, dilation=1, ceil_mode=False)\n",
      "    (16): Conv2d(512, 512, kernel_size=(3, 3), stride=(1, 1), padding=(1, 1))\n",
      "    (17): BatchNorm2d(512, eps=1e-05, momentum=0.1, affine=True, track_running_stats=True)\n",
      "    (18): ReLU()\n",
      "    (19): MaxPool2d(kernel_size=2, stride=2, padding=0, dilation=1, ceil_mode=False)\n",
      "  )\n",
      "  (fc): Sequential(\n",
      "    (0): Linear(in_features=8192, out_features=1024, bias=True)\n",
      "    (1): ReLU()\n",
      "    (2): Linear(in_features=1024, out_features=512, bias=True)\n",
      "    (3): ReLU()\n",
      "    (4): Linear(in_features=512, out_features=11, bias=True)\n",
      "  )\n",
      ")\n"
     ]
    }
   ],
   "source": [
    "model = Classifier().cuda()\n",
    "print(model)"
   ]
  },
  {
   "cell_type": "markdown",
   "metadata": {},
   "source": [
    "## 清空顯卡內存 \n",
    "```\n",
    "torch.cuda.empty_cache() # 清空內存\n",
    "```"
   ]
  },
  {
   "cell_type": "code",
   "execution_count": 10,
   "metadata": {},
   "outputs": [
    {
     "name": "stdout",
     "output_type": "stream",
     "text": [
      "[001/030] 37.89 sec(s) Train Acc: 0.250456 Loss: 0.034093 | Val Acc: 0.327988 Loss0.030527\n",
      "[002/030] 37.83 sec(s) Train Acc: 0.350193 Loss: 0.028700 | Val Acc: 0.319825 Loss0.031760\n",
      "[003/030] 37.85 sec(s) Train Acc: 0.415366 Loss: 0.026426 | Val Acc: 0.354810 Loss0.028841\n",
      "[004/030] 37.84 sec(s) Train Acc: 0.464727 Loss: 0.024119 | Val Acc: 0.379883 Loss0.029857\n",
      "[005/030] 37.87 sec(s) Train Acc: 0.498176 Loss: 0.022730 | Val Acc: 0.494169 Loss0.023268\n",
      "[006/030] 37.87 sec(s) Train Acc: 0.539935 Loss: 0.020962 | Val Acc: 0.488921 Loss0.025008\n",
      "[007/030] 37.93 sec(s) Train Acc: 0.562639 Loss: 0.019905 | Val Acc: 0.553644 Loss0.020516\n",
      "[008/030] 37.96 sec(s) Train Acc: 0.589702 Loss: 0.018516 | Val Acc: 0.430321 Loss0.030290\n",
      "[009/030] 37.98 sec(s) Train Acc: 0.615447 Loss: 0.017291 | Val Acc: 0.547813 Loss0.021487\n",
      "[010/030] 37.99 sec(s) Train Acc: 0.640381 Loss: 0.016233 | Val Acc: 0.517784 Loss0.023721\n",
      "[011/030] 37.96 sec(s) Train Acc: 0.660349 Loss: 0.015379 | Val Acc: 0.583965 Loss0.020182\n",
      "[012/030] 37.96 sec(s) Train Acc: 0.681431 Loss: 0.014494 | Val Acc: 0.322741 Loss0.057184\n",
      "[013/030] 37.88 sec(s) Train Acc: 0.685790 Loss: 0.014048 | Val Acc: 0.511370 Loss0.024402\n",
      "[014/030] 37.87 sec(s) Train Acc: 0.711940 Loss: 0.013157 | Val Acc: 0.619825 Loss0.019375\n",
      "[015/030] 37.96 sec(s) Train Acc: 0.721670 Loss: 0.012446 | Val Acc: 0.560933 Loss0.024100\n",
      "[016/030] 37.98 sec(s) Train Acc: 0.736874 Loss: 0.011844 | Val Acc: 0.617493 Loss0.019237\n",
      "[017/030] 37.88 sec(s) Train Acc: 0.763633 Loss: 0.010878 | Val Acc: 0.619534 Loss0.020638\n",
      "[018/030] 37.91 sec(s) Train Acc: 0.768903 Loss: 0.010273 | Val Acc: 0.626531 Loss0.019430\n",
      "[019/030] 37.99 sec(s) Train Acc: 0.775897 Loss: 0.009891 | Val Acc: 0.628863 Loss0.020064\n",
      "[020/030] 37.94 sec(s) Train Acc: 0.796371 Loss: 0.009170 | Val Acc: 0.661808 Loss0.017675\n",
      "[021/030] 37.94 sec(s) Train Acc: 0.808129 Loss: 0.008654 | Val Acc: 0.616035 Loss0.019817\n",
      "[022/030] 37.94 sec(s) Train Acc: 0.824650 Loss: 0.007987 | Val Acc: 0.615160 Loss0.022177\n",
      "[023/030] 37.91 sec(s) Train Acc: 0.832252 Loss: 0.007567 | Val Acc: 0.667638 Loss0.018518\n",
      "[024/030] 37.94 sec(s) Train Acc: 0.833975 Loss: 0.007419 | Val Acc: 0.672595 Loss0.018537\n",
      "[025/030] 37.91 sec(s) Train Acc: 0.857592 Loss: 0.006387 | Val Acc: 0.634985 Loss0.022869\n",
      "[026/030] 37.92 sec(s) Train Acc: 0.857794 Loss: 0.006498 | Val Acc: 0.594169 Loss0.027834\n",
      "[027/030] 37.91 sec(s) Train Acc: 0.860126 Loss: 0.006131 | Val Acc: 0.664723 Loss0.020769\n",
      "[028/030] 37.83 sec(s) Train Acc: 0.883337 Loss: 0.005211 | Val Acc: 0.642274 Loss0.023544\n",
      "[029/030] 37.81 sec(s) Train Acc: 0.890128 Loss: 0.004805 | Val Acc: 0.669388 Loss0.022245\n",
      "[030/030] 37.84 sec(s) Train Acc: 0.885668 Loss: 0.004958 | Val Acc: 0.653936 Loss0.024473\n"
     ]
    }
   ],
   "source": [
    "torch.cuda.empty_cache() # 清空內存\n",
    "loss = nn.CrossEntropyLoss() # 因為是classfication 所以用 cross entropy\n",
    "optimizer = torch.optim.Adam(model.parameters(), lr=0.001)\n",
    "num_epoch= 30\n",
    "\n",
    "for epoch in range(num_epoch):\n",
    "    epoch_start_time = time.time()\n",
    "    train_acc =0.0\n",
    "    train_loss = 0.0\n",
    "    val_acc = 0.0\n",
    "    val_loss = 0.0\n",
    "\n",
    "    model.train()\n",
    "    for i , data in enumerate(train_loader):\n",
    "        optimizer.zero_grad() # 用optimizer 將 model 參數的 gradient 歸零\n",
    "        train_pred = model(data[0].cuda()) # 呼叫model forward參數去預測\n",
    "        batch_loss = loss(train_pred , data[1].cuda()) # 計算loss \n",
    "        batch_loss.backward() # 利用back propagation 算出每個參數的 gradient\n",
    "        optimizer.step()\n",
    "        \n",
    "        # np.argmax() 該函數回傳最大值的index \n",
    "        # 看有沒有與正確答案的index 一樣\n",
    "        train_acc += np.sum(np.argmax(train_pred.cpu().data.numpy() ,axis =1 ) == data[1].numpy())\n",
    "        train_loss += batch_loss.item()\n",
    "    \n",
    "    model.eval()\n",
    "    with torch.no_grad():\n",
    "        for i, data in enumerate(val_loader):\n",
    "            val_pred = model(data[0].cuda())\n",
    "            batch_loss = loss(val_pred , data[1].cuda())\n",
    "            \n",
    "            val_acc += np.sum(np.argmax(val_pred.cpu().data.numpy() , axis =1 ) == data[1].numpy())\n",
    "            val_loss += batch_loss.item()\n",
    "        \n",
    "        #將結果print 出來\n",
    "        print('[%03d/%03d] %2.2f sec(s) Train Acc: %3.6f Loss: %3.6f | Val Acc: %3.6f Loss%3.6f' % \\\n",
    "             (epoch + 1 , num_epoch , time.time()- epoch_start_time, train_acc/train_set.__len__(),\\\n",
    "             train_loss/train_set.__len__(), val_acc/valid_set.__len__(), val_loss/valid_set.__len__()))"
   ]
  },
  {
   "cell_type": "markdown",
   "metadata": {},
   "source": [
    "## 得到好的參數後，我們將 training set 與 validation set 共同訓練，讓資料變多 "
   ]
  },
  {
   "cell_type": "code",
   "execution_count": 11,
   "metadata": {},
   "outputs": [],
   "source": [
    "train_val_x = np.concatenate((train_x, valid_x) , axis = 0)\n",
    "train_val_y = np.concatenate((train_y, valid_y) , axis = 0)\n",
    "\n",
    "train_val_set = imageData(train_val_x, train_val_y, train_transform)\n",
    "train_val_loader = DataLoader(train_val_set, batch_size=batch_size, shuffle=True)"
   ]
  },
  {
   "cell_type": "code",
   "execution_count": 12,
   "metadata": {},
   "outputs": [
    {
     "name": "stdout",
     "output_type": "stream",
     "text": [
      "[001/030] 45.42 sec(s) Train Acc: 0.288658 Train Loss: 0.031960\n",
      "[002/030] 45.30 sec(s) Train Acc: 0.396886 Train Loss: 0.027077\n",
      "[003/030] 45.46 sec(s) Train Acc: 0.463899 Train Loss: 0.024252\n",
      "[004/030] 45.42 sec(s) Train Acc: 0.514967 Train Loss: 0.022093\n",
      "[005/030] 45.35 sec(s) Train Acc: 0.548812 Train Loss: 0.020365\n",
      "[006/030] 45.33 sec(s) Train Acc: 0.580551 Train Loss: 0.018885\n",
      "[007/030] 45.36 sec(s) Train Acc: 0.614170 Train Loss: 0.017547\n",
      "[008/030] 45.43 sec(s) Train Acc: 0.636582 Train Loss: 0.016311\n",
      "[009/030] 45.43 sec(s) Train Acc: 0.665162 Train Loss: 0.015172\n",
      "[010/030] 45.42 sec(s) Train Acc: 0.683589 Train Loss: 0.014476\n",
      "[011/030] 45.42 sec(s) Train Acc: 0.702016 Train Loss: 0.013485\n",
      "[012/030] 45.37 sec(s) Train Acc: 0.719013 Train Loss: 0.012871\n",
      "[013/030] 45.39 sec(s) Train Acc: 0.730445 Train Loss: 0.012158\n",
      "[014/030] 45.44 sec(s) Train Acc: 0.748195 Train Loss: 0.011416\n",
      "[015/030] 45.38 sec(s) Train Acc: 0.761658 Train Loss: 0.010841\n",
      "[016/030] 45.43 sec(s) Train Acc: 0.777677 Train Loss: 0.010173\n",
      "[017/030] 45.46 sec(s) Train Acc: 0.782040 Train Loss: 0.009698\n",
      "[018/030] 45.38 sec(s) Train Acc: 0.798511 Train Loss: 0.009031\n",
      "[019/030] 45.44 sec(s) Train Acc: 0.808815 Train Loss: 0.008467\n",
      "[020/030] 45.37 sec(s) Train Acc: 0.826715 Train Loss: 0.007834\n",
      "[021/030] 45.33 sec(s) Train Acc: 0.836417 Train Loss: 0.007353\n",
      "[022/030] 45.34 sec(s) Train Acc: 0.844690 Train Loss: 0.006922\n",
      "[023/030] 45.32 sec(s) Train Acc: 0.855069 Train Loss: 0.006428\n",
      "[024/030] 45.34 sec(s) Train Acc: 0.867178 Train Loss: 0.006032\n",
      "[025/030] 45.34 sec(s) Train Acc: 0.871766 Train Loss: 0.005764\n",
      "[026/030] 45.34 sec(s) Train Acc: 0.883875 Train Loss: 0.005212\n",
      "[027/030] 45.33 sec(s) Train Acc: 0.894254 Train Loss: 0.004781\n",
      "[028/030] 45.41 sec(s) Train Acc: 0.901474 Train Loss: 0.004476\n",
      "[029/030] 45.34 sec(s) Train Acc: 0.908469 Train Loss: 0.004189\n",
      "[030/030] 45.37 sec(s) Train Acc: 0.905535 Train Loss: 0.004187\n"
     ]
    }
   ],
   "source": [
    "# 清空顯卡內存\n",
    "torch.cuda.empty_cache()\n",
    "model_best = Classifier().cuda()\n",
    "loss = nn.CrossEntropyLoss()\n",
    "optimizer = torch.optim.Adam(model_best.parameters(), lr = 0.001)\n",
    "num_epoch = 30\n",
    "\n",
    "for epoch in range(num_epoch):\n",
    "    epoch_strat_time = time.time()\n",
    "    train_acc = 0.0\n",
    "    train_loss = 0.0\n",
    "    \n",
    "    model_best.train()\n",
    "    for i,data in enumerate(train_val_loader):\n",
    "        optimizer.zero_grad()\n",
    "        pred = model_best(data[0].cuda())\n",
    "        batch_loss = loss(pred, data[1].cuda())\n",
    "        batch_loss.backward()\n",
    "        optimizer.step()\n",
    "        \n",
    "        train_acc += np.sum(np.argmax(pred.cpu().data.numpy() , axis = 1) == data[1].numpy())\n",
    "        train_loss += batch_loss.item()\n",
    "        \n",
    "    print('[%03d/%03d] %2.2f sec(s) Train Acc: %3.6f Train Loss: %3.6f' %\\\n",
    "         (epoch + 1, num_epoch , time.time()-epoch_strat_time , train_acc/train_val_set.__len__(),\\\n",
    "         train_loss/train_val_set.__len__()))"
   ]
  },
  {
   "cell_type": "markdown",
   "metadata": {},
   "source": [
    "## Testing"
   ]
  },
  {
   "cell_type": "code",
   "execution_count": 13,
   "metadata": {},
   "outputs": [],
   "source": [
    "test_set = imageData(test_x , transforms=test_transform)\n",
    "test_loader = DataLoader(test_set, batch_size = batch_size ,shuffle= False)"
   ]
  },
  {
   "cell_type": "code",
   "execution_count": 16,
   "metadata": {},
   "outputs": [],
   "source": [
    "model_best.eval()\n",
    "prediction = []\n",
    "with torch.no_grad():\n",
    "    for i , data in enumerate(test_loader):\n",
    "        test_pred = model_best(data.cuda())\n",
    "        test_label = np.argmax(test_pred.cpu().data.numpy(), axis = 1)\n",
    "        \n",
    "        for y in test_label:\n",
    "            prediction.append(y)"
   ]
  },
  {
   "cell_type": "code",
   "execution_count": 20,
   "metadata": {},
   "outputs": [],
   "source": [
    "# 將結果寫入csv file\n",
    "with open('submission.csv','w') as f:\n",
    "    f.write('Id,Category\\n')\n",
    "    for i , y in enumerate(prediction):\n",
    "        f.write('{},{}\\n'.format(i,y))"
   ]
  }
 ],
 "metadata": {
  "kernelspec": {
   "display_name": "Python 3",
   "language": "python",
   "name": "python3"
  },
  "language_info": {
   "codemirror_mode": {
    "name": "ipython",
    "version": 3
   },
   "file_extension": ".py",
   "mimetype": "text/x-python",
   "name": "python",
   "nbconvert_exporter": "python",
   "pygments_lexer": "ipython3",
   "version": "3.6.8"
  }
 },
 "nbformat": 4,
 "nbformat_minor": 4
}
